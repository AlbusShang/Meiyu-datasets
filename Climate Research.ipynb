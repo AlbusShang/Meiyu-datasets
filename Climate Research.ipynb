{
 "cells": [
  {
   "cell_type": "code",
   "execution_count": null,
   "id": "d14c862a-df61-4467-bc6a-abb4eaf95ea8",
   "metadata": {},
   "outputs": [],
   "source": [
    "print(1+1)"
   ]
  },
  {
   "cell_type": "code",
   "execution_count": null,
   "id": "0a497358-713d-4d0d-a4b6-dd51c37a4111",
   "metadata": {},
   "outputs": [],
   "source": [
    "!conda create -n pens-env python=3.11\n",
    "!conda activate pens-env"
   ]
  },
  {
   "cell_type": "code",
   "execution_count": null,
   "id": "e18537f3-fdcc-4992-8218-376b3a10458a",
   "metadata": {},
   "outputs": [],
   "source": []
  }
 ],
 "metadata": {
  "kernelspec": {
   "display_name": "Python 3 (ipykernel)",
   "language": "python",
   "name": "python3"
  },
  "language_info": {
   "codemirror_mode": {
    "name": "ipython",
    "version": 3
   },
   "file_extension": ".py",
   "mimetype": "text/x-python",
   "name": "python",
   "nbconvert_exporter": "python",
   "pygments_lexer": "ipython3",
   "version": "3.12.4"
  }
 },
 "nbformat": 4,
 "nbformat_minor": 5
}
